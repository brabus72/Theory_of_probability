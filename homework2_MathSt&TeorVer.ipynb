{
 "cells": [
  {
   "cell_type": "markdown",
   "metadata": {},
   "source": [
    "#### Домашняя работа №2\n",
    "\n",
    "\n",
    "##### Задание №1\n",
    "\n",
    "1. Вероятность того, что стрелок попадет в мишень, выстрелив один раз, равна 0.8. Стрелок выстрелил 100 раз. \n",
    "Найдите вероятность того, что стрелок попадет в цель ровно 85 раз."
   ]
  },
  {
   "cell_type": "code",
   "execution_count": 1,
   "metadata": {},
   "outputs": [],
   "source": [
    "from math import factorial as facto\n",
    "from math import exp"
   ]
  },
  {
   "cell_type": "code",
   "execution_count": 2,
   "metadata": {},
   "outputs": [
    {
     "data": {
      "text/plain": [
       "0.048061793700746355"
      ]
     },
     "execution_count": 2,
     "metadata": {},
     "output_type": "execute_result"
    }
   ],
   "source": [
    "k = 85\n",
    "p = 0.8\n",
    "n = 100\n",
    "\n",
    "c = facto(n) / (facto(k) * facto(n - k))\n",
    "P = c * (p**k) * (1-p)**(n - k)\n",
    "P"
   ]
  },
  {
   "cell_type": "markdown",
   "metadata": {},
   "source": [
    "Ответ: вероятность того, что стрелок попадёт в цель ровно 85 раз Р = 0.04806"
   ]
  },
  {
   "cell_type": "markdown",
   "metadata": {},
   "source": [
    "##### Задание №2\n",
    "\n",
    "2. Вероятность того, что лампочка перегорит в течение первого дня эксплуатации, равна 0.0004. В жилом комплексе после ремонта в один день включили 5000 новых лампочек. Какова вероятность, что ни одна из них не перегорит в первый день? Какова вероятность, что перегорят ровно две?"
   ]
  },
  {
   "cell_type": "code",
   "execution_count": 3,
   "metadata": {},
   "outputs": [
    {
     "data": {
      "text/plain": [
       "(0.1353352832366127, 0.2706705664732254)"
      ]
     },
     "execution_count": 3,
     "metadata": {},
     "output_type": "execute_result"
    }
   ],
   "source": [
    "n = 5000\n",
    "p = 0.0004\n",
    "m0 = 0\n",
    "m2 = 2\n",
    "\n",
    "lambdaa = n * p\n",
    "\n",
    "Puasson_0 = (lambdaa**m0 / facto(m0)) * exp(-lambdaa)\n",
    "Puasson_2 = (lambdaa**m2 / facto(m2)) * exp(-lambdaa)\n",
    "Puasson_0, Puasson_2"
   ]
  },
  {
   "cell_type": "markdown",
   "metadata": {},
   "source": [
    "Ответ: 1) вероятность того, что ни одна из них не перегорит в первый день Р = 0.13533\n",
    "       2) вероятность того, что перегорят ровно две Р = 0.27067"
   ]
  },
  {
   "cell_type": "markdown",
   "metadata": {},
   "source": [
    "##### Задание №3\n",
    "\n",
    "3. Монету подбросили 144 раза. Какова вероятность, что орел выпадет ровно 70 раз?"
   ]
  },
  {
   "cell_type": "code",
   "execution_count": 4,
   "metadata": {},
   "outputs": [
    {
     "data": {
      "text/plain": [
       "0.06281178035144776"
      ]
     },
     "execution_count": 4,
     "metadata": {},
     "output_type": "execute_result"
    }
   ],
   "source": [
    "k = 70\n",
    "p = 0.5\n",
    "n = 144\n",
    "\n",
    "c = facto(n) / (facto(k) * facto(n - k))\n",
    "P = c*(p**k) * (1 - p)**(n - k)\n",
    "P"
   ]
  },
  {
   "cell_type": "markdown",
   "metadata": {},
   "source": [
    "Ответ: вероятность того, что выпадет орёл ровно 70 раз Р = 0.06281"
   ]
  },
  {
   "cell_type": "markdown",
   "metadata": {},
   "source": [
    "##### Задание №4\n",
    "\n",
    "4. В первом ящике находится 10 мячей, из которых 7 - белые. Во втором ящике - 11 мячей, из которых 9 белых. Из каждого ящика вытаскивают случайным образом по два мяча. \n",
    "\n",
    "а) Какова вероятность того, что все мячи белые? \n",
    "\n",
    "б) Какова вероятность того, что ровно два мяча белые? \n",
    "\n",
    "в) Какова вероятность того, что хотя бы один мяч белый?"
   ]
  },
  {
   "cell_type": "code",
   "execution_count": 5,
   "metadata": {},
   "outputs": [],
   "source": [
    "n1 = 10                    # количество мячей в 1-ом ящике\n",
    "m1 = 7                     # количество белых мячей в 1-ом ящике\n",
    "n2 = 11                    # количество мячей в 2-ом ящике\n",
    "m2 = 9                     # количество белых мячей в 2-ом ящике"
   ]
  },
  {
   "cell_type": "code",
   "execution_count": 6,
   "metadata": {},
   "outputs": [
    {
     "data": {
      "text/plain": [
       "0.3054545454545455"
      ]
     },
     "execution_count": 6,
     "metadata": {},
     "output_type": "execute_result"
    }
   ],
   "source": [
    "# а) Какова вероятность того, что все мячи белые?\n",
    "\n",
    "P1 = (m1 / n1) * ((m1 - 1) / (n1 - 1))     # 1-ой ящик\n",
    "P2 = (m2 / n2) * ((m2 - 1) / (n2 - 1))     # 2-ой ящик\n",
    "P = P1 * P2\n",
    "P"
   ]
  },
  {
   "cell_type": "code",
   "execution_count": 7,
   "metadata": {},
   "outputs": [
    {
     "data": {
      "text/plain": [
       "0.08484848484848484"
      ]
     },
     "execution_count": 7,
     "metadata": {},
     "output_type": "execute_result"
    }
   ],
   "source": [
    "# б) Какова вероятность того, что ровно два мяча белые?\n",
    "\n",
    "# Возможны три варианта, когда два мяча белые:\n",
    "# - 2 белых мяча из первого ящика (P21)\n",
    " \n",
    "P1_1 = (m1 / n1) * ((m1 - 1) / (n1 - 1))      # вероятность того, что из 1-го ящика вытащили подряд 2 белых мяча \n",
    "P1_2 = (n2 - m2) / n2                         # вероятность того, что из 2-го ящика вытащили подряд 2 черных мяча\n",
    "P21 = P1_1 * P1_2\n",
    "P21"
   ]
  },
  {
   "cell_type": "code",
   "execution_count": 8,
   "metadata": {},
   "outputs": [
    {
     "data": {
      "text/plain": [
       "0.12495867768595041"
      ]
     },
     "execution_count": 8,
     "metadata": {},
     "output_type": "execute_result"
    }
   ],
   "source": [
    "# - ровно по 1 из каждого ящика (P11)\n",
    "\n",
    "k = 1\n",
    "n = 2\n",
    "p1 = 7/10\n",
    "p2 = 9/11\n",
    "\n",
    "C = facto(n) / (facto(k) * facto(n - k))\n",
    "\n",
    "P2_1 = C * (p1**k) * (1 - p1)**(n - k)\n",
    "P2_2 = C * (p2**k) * (1 - p2)**(n - k)\n",
    "P11 = P2_1 * P2_2\n",
    "P11"
   ]
  },
  {
   "cell_type": "code",
   "execution_count": 9,
   "metadata": {},
   "outputs": [
    {
     "data": {
      "text/plain": [
       "0.19636363636363638"
      ]
     },
     "execution_count": 9,
     "metadata": {},
     "output_type": "execute_result"
    }
   ],
   "source": [
    "# - 2 белых из второго ящика (P22)\n",
    "\n",
    "P3_1 = (m2 / n2) * ((m2 - 1) / (n2 - 1))    # вероятность того, что из 2-го ящика вытащили подряд 2 белых мяча\n",
    "P3_2 = (n1 - m1) / n1                       # вероятность того, что из 1-го ящика вытащили подряд 2 черных мяча\n",
    "P22 = P3_1 * P3_2\n",
    "P22"
   ]
  },
  {
   "cell_type": "code",
   "execution_count": 10,
   "metadata": {},
   "outputs": [
    {
     "data": {
      "text/plain": [
       "0.0020819561505361654"
      ]
     },
     "execution_count": 10,
     "metadata": {},
     "output_type": "execute_result"
    }
   ],
   "source": [
    "P = P21 * P11 * P22\n",
    "P"
   ]
  },
  {
   "cell_type": "code",
   "execution_count": 11,
   "metadata": {},
   "outputs": [
    {
     "data": {
      "text/plain": [
       "0.6666666666666666"
      ]
     },
     "execution_count": 11,
     "metadata": {},
     "output_type": "execute_result"
    }
   ],
   "source": [
    "# в) Какова вероятность того, что хотя бы один мяч белый?\n",
    "\n",
    "P = (m1 + m1) / (n1 + n2)\n",
    "P"
   ]
  },
  {
   "cell_type": "markdown",
   "metadata": {},
   "source": [
    "Ответ: а) вероятность того, что все мячи белые Р = 0.30545\n",
    "       б) вероятность того, что ровно два мяча белые Р = 0.00208\n",
    "       в) вероятность того, что хотя бы один мяч белый Р = 0.66666"
   ]
  },
  {
   "cell_type": "code",
   "execution_count": null,
   "metadata": {},
   "outputs": [],
   "source": []
  }
 ],
 "metadata": {
  "kernelspec": {
   "display_name": "Python 3",
   "language": "python",
   "name": "python3"
  },
  "language_info": {
   "codemirror_mode": {
    "name": "ipython",
    "version": 3
   },
   "file_extension": ".py",
   "mimetype": "text/x-python",
   "name": "python",
   "nbconvert_exporter": "python",
   "pygments_lexer": "ipython3",
   "version": "3.7.1"
  }
 },
 "nbformat": 4,
 "nbformat_minor": 2
}
