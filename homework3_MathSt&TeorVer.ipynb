{
 "cells": [
  {
   "cell_type": "markdown",
   "metadata": {},
   "source": [
    "### Домашняя работа №3\n",
    "\n",
    "##### Задание №1\n",
    "\n",
    "1. Даны значения зарплат из выборки выпускников: 100, 80, 75, 77, 89, 33, 45, 25, 65, 17, 30, 24, 57, 55, 70, 75, 65, 84, 90, 150. Посчитать (желательно без использования статистических методов наподобие std, var, mean) среднее арифметическое, среднее квадратичное отклонение, смещенную и несмещенную оценки дисперсий для данной выборки."
   ]
  },
  {
   "cell_type": "code",
   "execution_count": 1,
   "metadata": {},
   "outputs": [],
   "source": [
    "import numpy as np\n",
    "from math import factorial as facto"
   ]
  },
  {
   "cell_type": "code",
   "execution_count": 2,
   "metadata": {},
   "outputs": [
    {
     "data": {
      "text/plain": [
       "array([ 17,  24,  25,  30,  33,  45,  55,  57,  65,  65,  70,  75,  75,\n",
       "        77,  80,  84,  89,  90, 100, 150])"
      ]
     },
     "execution_count": 2,
     "metadata": {},
     "output_type": "execute_result"
    }
   ],
   "source": [
    "list1 = np.array([100, 80, 75, 77, 89, 33, 45, 25, 65, 17, 30, 24, 57, 55, 70, 75, 65, 84, 90, 150])\n",
    "list1 = np.array(sorted(list1))\n",
    "list1"
   ]
  },
  {
   "cell_type": "code",
   "execution_count": 3,
   "metadata": {},
   "outputs": [
    {
     "data": {
      "text/plain": [
       "65.3"
      ]
     },
     "execution_count": 3,
     "metadata": {},
     "output_type": "execute_result"
    }
   ],
   "source": [
    "# mean_1ist1 - среднее арифметическое\n",
    "\n",
    "mean_list1 = sum(list1)/list1.size\n",
    "mean_list1"
   ]
  },
  {
   "cell_type": "code",
   "execution_count": 4,
   "metadata": {},
   "outputs": [
    {
     "data": {
      "text/plain": [
       "(950.11, 1000.1157894736842)"
      ]
     },
     "execution_count": 4,
     "metadata": {},
     "output_type": "execute_result"
    }
   ],
   "source": [
    "# d - дисперсия\n",
    "\n",
    "d = []\n",
    "\n",
    "for i in list1:\n",
    "    sqrt_err = (i - mean_list1)**2\n",
    "    d.append(sqrt_err)\n",
    "\n",
    "dispersion = sum(d) / list1.size                   # смещённая дисперсия\n",
    "dispersion_non = sum(d) / (list1.size - 1)         # несмещённая дисперсия\n",
    "dispersion, dispersion_non"
   ]
  },
  {
   "cell_type": "code",
   "execution_count": 5,
   "metadata": {},
   "outputs": [
    {
     "data": {
      "text/plain": [
       "(30.823854398825596, 31.624607341019814)"
      ]
     },
     "execution_count": 5,
     "metadata": {},
     "output_type": "execute_result"
    }
   ],
   "source": [
    "# sigma - среднее квадратичное отклонение\n",
    "\n",
    "sigma = np.sqrt(dispersion)\n",
    "sigma_non = np.sqrt(dispersion_non)\n",
    "sigma, sigma_non"
   ]
  },
  {
   "cell_type": "markdown",
   "metadata": {},
   "source": [
    "Ответ: по итогам расчётов мы получили следующие результаты:\n",
    "\n",
    "    65.3 - среднее арифметическое (mean_1ist1); \n",
    "    30.8, 31.6 - среднее квадратичное отклонение (sigma, sigma_non); \n",
    "    950.1 - смещенную... (dispersion);\n",
    "    1000.1 - и несмещенную оценки дисперсий для данной выборки (dispersion_non)."
   ]
  },
  {
   "cell_type": "markdown",
   "metadata": {},
   "source": [
    "##### Задание №2\n",
    "\n",
    "2. В первом ящике находится 8 мячей, из которых 5 - белые. Во втором ящике - 12 мячей, из которых 5 белых. \n",
    "Из первого ящика вытаскивают случайным образом два мяча, из второго - 4. \n",
    "Какова вероятность того, что 3 мяча белые?"
   ]
  },
  {
   "cell_type": "code",
   "execution_count": 6,
   "metadata": {},
   "outputs": [],
   "source": [
    "def binom(n, k):\n",
    "    return facto(n) / (facto(k) * facto(n - k))"
   ]
  },
  {
   "cell_type": "code",
   "execution_count": 7,
   "metadata": {},
   "outputs": [
    {
     "data": {
      "text/plain": [
       "0.12626262626262627"
      ]
     },
     "execution_count": 7,
     "metadata": {},
     "output_type": "execute_result"
    }
   ],
   "source": [
    "# (P1) - вероятность 2 белых из 2 в 1-м ящике (P21) * на 1 белый из 4 во 2-м ящике (P12):\n",
    "\n",
    "comb_1 = binom(8, 2)                                 \n",
    "P21 = binom(5, 2) / comb_1\n",
    "\n",
    "comb_2 = binom(12, 4)                                \n",
    "P12 = binom(5, 1) * binom(7, 3) / comb_2\n",
    "\n",
    "P1 = P21 * P12\n",
    "P1"
   ]
  },
  {
   "cell_type": "code",
   "execution_count": 8,
   "metadata": {},
   "outputs": [
    {
     "data": {
      "text/plain": [
       "0.01515151515151515"
      ]
     },
     "execution_count": 8,
     "metadata": {},
     "output_type": "execute_result"
    }
   ],
   "source": [
    "# (P2) - вероятность 0 белых из 2 в 1-м ящике (P01) * на 3 белых из 4 во 2-м ящике (P32):\n",
    "\n",
    "P01 = binom(5, 0) * binom(3, 2) / comb_1\n",
    "\n",
    "P32 = binom(5, 3) * binom(7, 1) / comb_2\n",
    "\n",
    "P2 = P01 * P32\n",
    "P2"
   ]
  },
  {
   "cell_type": "code",
   "execution_count": 9,
   "metadata": {},
   "outputs": [
    {
     "data": {
      "text/plain": [
       "0.22727272727272727"
      ]
     },
     "execution_count": 9,
     "metadata": {},
     "output_type": "execute_result"
    }
   ],
   "source": [
    "# (P3) - вероятность 1 белых из 2 в 1-м ящике (P11) * на 2 белых из 4 во 2-м ящике (P22):\n",
    "\n",
    "P11 = binom(5, 1) * binom(3, 1) / comb_1\n",
    "\n",
    "P22 = binom(5, 2) * binom(7, 2) / comb_2\n",
    "\n",
    "P3 = P11 * P22\n",
    "P3"
   ]
  },
  {
   "cell_type": "code",
   "execution_count": 10,
   "metadata": {},
   "outputs": [
    {
     "data": {
      "text/plain": [
       "0.3686868686868687"
      ]
     },
     "execution_count": 10,
     "metadata": {},
     "output_type": "execute_result"
    }
   ],
   "source": [
    "P = P1 + P2 + P3\n",
    "P"
   ]
  },
  {
   "cell_type": "markdown",
   "metadata": {},
   "source": [
    "Ответ: вероятность того, что 3 мяча белые Р = 0.36868"
   ]
  },
  {
   "cell_type": "markdown",
   "metadata": {},
   "source": [
    "##### Задание №3\n",
    "\n",
    "3. На соревновании по биатлону один из трех спортсменов стреляет и попадает в мишень. Вероятность попадания для первого спортсмена равна 0.9, для второго — 0.8, для третьего — 0.6. Найти вероятность того, что выстрел произведен: a). первым спортсменом б). вторым спортсменом в). третьим спортсменом."
   ]
  },
  {
   "cell_type": "code",
   "execution_count": 11,
   "metadata": {},
   "outputs": [],
   "source": [
    "PA = 0.9\n",
    "PB = 0.8\n",
    "PC = 0.6"
   ]
  },
  {
   "cell_type": "code",
   "execution_count": 12,
   "metadata": {},
   "outputs": [],
   "source": [
    "P = PA + PB + PC"
   ]
  },
  {
   "cell_type": "code",
   "execution_count": 13,
   "metadata": {},
   "outputs": [
    {
     "data": {
      "text/plain": [
       "(0.3913043478260869, 0.34782608695652173, 0.26086956521739124)"
      ]
     },
     "execution_count": 13,
     "metadata": {},
     "output_type": "execute_result"
    }
   ],
   "source": [
    "PA_shoot = PA / P\n",
    "PB_shoot = PB / P\n",
    "PC_shoot = PC / P\n",
    "PA_shoot, PB_shoot, PC_shoot"
   ]
  },
  {
   "cell_type": "markdown",
   "metadata": {},
   "source": [
    "Ответ:  вероятность того, что выстрел произведен: \n",
    "        \n",
    "    0.39130 - первым спортсменом (PA_shoot);\n",
    "    0.34782 - вторым спортсменом (PB_shoot);\n",
    "    0.26086 - третьим спортсменом (PC_shoot)."
   ]
  },
  {
   "cell_type": "markdown",
   "metadata": {},
   "source": [
    "##### Задание №4\n",
    "\n",
    "4. В университет на факультеты A и B поступило равное количество студентов, а на факультет C студентов поступило столько же, сколько на A и B вместе. Вероятность того, что студент факультета A сдаст первую сессию, равна 0.8. Для студента факультета B эта вероятность равна 0.7, а для студента факультета C - 0.9. Студент сдал первую сессию. Какова вероятность, что он учится: a). на факультете A б). на факультете B в). на факультете C?"
   ]
  },
  {
   "cell_type": "code",
   "execution_count": 14,
   "metadata": {},
   "outputs": [],
   "source": [
    "PA = 0.8\n",
    "PB = 0.7\n",
    "PC = 0.9"
   ]
  },
  {
   "cell_type": "code",
   "execution_count": 15,
   "metadata": {},
   "outputs": [
    {
     "data": {
      "text/plain": [
       "3.3"
      ]
     },
     "execution_count": 15,
     "metadata": {},
     "output_type": "execute_result"
    }
   ],
   "source": [
    "P = PA + PB + 2*PC\n",
    "P"
   ]
  },
  {
   "cell_type": "code",
   "execution_count": 16,
   "metadata": {},
   "outputs": [
    {
     "data": {
      "text/plain": [
       "(0.24242424242424246, 0.21212121212121213, 0.5454545454545455)"
      ]
     },
     "execution_count": 16,
     "metadata": {},
     "output_type": "execute_result"
    }
   ],
   "source": [
    "P_fa = PA / P\n",
    "P_fb = PB / P\n",
    "P_fc = 2*PC / P\n",
    "P_fa, P_fb, P_fc"
   ]
  },
  {
   "cell_type": "markdown",
   "metadata": {},
   "source": [
    "Ответ: вероятность, что он учится: \n",
    "        \n",
    "    0.24242 - на факультете A (P_fa);\n",
    "    0.21212 - на факультете B (P_fb);\n",
    "    0.54545 - на факультете C (P_fc)."
   ]
  },
  {
   "cell_type": "markdown",
   "metadata": {},
   "source": [
    "#### Задание №5\n",
    "\n",
    "5. Устройство состоит из трех деталей. Для первой детали вероятность выйти из строя в первый месяц равна 0.1, для второй - 0.2, \n",
    "для третьей - 0.25. Какова вероятность того, что в первый месяц выйдут из строя: а). все детали б). только две детали \n",
    "в). хотя бы одна деталь г). от одной до двух деталей?"
   ]
  },
  {
   "cell_type": "code",
   "execution_count": 17,
   "metadata": {},
   "outputs": [],
   "source": [
    "P1 = 0.1\n",
    "P2 = 0.2\n",
    "P3 = 0.25"
   ]
  },
  {
   "cell_type": "code",
   "execution_count": 18,
   "metadata": {},
   "outputs": [
    {
     "data": {
      "text/plain": [
       "0.005000000000000001"
      ]
     },
     "execution_count": 18,
     "metadata": {},
     "output_type": "execute_result"
    }
   ],
   "source": [
    "P = P1 * P2 * P3\n",
    "P"
   ]
  },
  {
   "cell_type": "code",
   "execution_count": 19,
   "metadata": {},
   "outputs": [
    {
     "data": {
      "text/plain": [
       "(0.06537500000000002, 0.45999999999999996, 0.4493750000000001)"
      ]
     },
     "execution_count": 19,
     "metadata": {},
     "output_type": "execute_result"
    }
   ],
   "source": [
    "detail_2 = P1 * P *(1-P3) + P1 * P3 * (1-P2) + P3 * P2 * (1-P1)\n",
    "detail_1 = 1 - ((1-P1) * (1-P2) * (1-P3))\n",
    "detail_1_2 = detail_2 + (P1) * (1-P2) * (1-P3) + (P2) * (1-P1) * (1-P2) + (P3) * (1-P2) * (1-P1)\n",
    "detail_2, detail_1, detail_1_2"
   ]
  },
  {
   "cell_type": "markdown",
   "metadata": {},
   "source": [
    "Ответ: вероятность того, что в первый месяц выйдут из строя: \n",
    "        \n",
    "    0.005 - все детали (P);\n",
    "    0.065 - только две детали (detail_2);\n",
    "    0.459 - хотя бы одна деталь (detail_1);\n",
    "    0.449 - от одной до двух деталей (detail_1_2)."
   ]
  },
  {
   "cell_type": "code",
   "execution_count": null,
   "metadata": {},
   "outputs": [],
   "source": []
  }
 ],
 "metadata": {
  "kernelspec": {
   "display_name": "Python 3",
   "language": "python",
   "name": "python3"
  },
  "language_info": {
   "codemirror_mode": {
    "name": "ipython",
    "version": 3
   },
   "file_extension": ".py",
   "mimetype": "text/x-python",
   "name": "python",
   "nbconvert_exporter": "python",
   "pygments_lexer": "ipython3",
   "version": "3.7.1"
  }
 },
 "nbformat": 4,
 "nbformat_minor": 2
}
