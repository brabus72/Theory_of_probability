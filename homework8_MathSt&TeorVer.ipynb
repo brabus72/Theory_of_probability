{
 "cells": [
  {
   "cell_type": "markdown",
   "metadata": {},
   "source": [
    "#### Домашняя работа №8¶\n",
    "\n",
    "##### Задание №1\n",
    "\n",
    "Провести дисперсионный анализ для определения того, есть ли различия среднего роста среди взрослых футболистов, хоккеистов и штангистов. Даны значения роста в трех группах случайно выбранных спортсменов: Футболисты: 173, 175, 180, 178, 177, 185, 183, 182. Хоккеисты: 177, 179, 180, 188, 177, 172, 171, 184, 180. Штангисты: 172, 173, 169, 177, 166, 180, 178, 177, 172, 166, 170."
   ]
  },
  {
   "cell_type": "code",
   "execution_count": 1,
   "metadata": {},
   "outputs": [],
   "source": [
    "import numpy as np\n",
    "import pandas as pd\n",
    "import matplotlib.pyplot as plt\n",
    "\n",
    "%matplotlib inline"
   ]
  },
  {
   "cell_type": "code",
   "execution_count": 2,
   "metadata": {},
   "outputs": [],
   "source": [
    "fb = np.array([173, 175, 180, 178, 177, 185, 183, 182])\n",
    "hk = np.array([177, 179, 180, 188, 177, 172, 171, 184, 180])\n",
    "lf = np.array([172, 173, 169, 177, 166, 180, 178, 177, 172, 166, 170])"
   ]
  },
  {
   "cell_type": "code",
   "execution_count": 3,
   "metadata": {},
   "outputs": [],
   "source": [
    "fb_h = len(fb)\n",
    "hk_h = len(hk)\n",
    "lf_h = len(lf)\n",
    "\n",
    "h_all = fb_h + hk_h + lf_h"
   ]
  },
  {
   "cell_type": "code",
   "execution_count": 4,
   "metadata": {},
   "outputs": [
    {
     "data": {
      "image/png": "[encoded data removed]",
      "text/plain": [
       "<Figure size 432x288 with 1 Axes>"
      ]
     },
     "metadata": {
      "needs_background": "light"
     },
     "output_type": "display_data"
    }
   ],
   "source": [
    "plt.scatter(['Футболисты'] * fb_h, fb)\n",
    "plt.scatter(['Хоккеисты'] * hk_h, hk)\n",
    "plt.scatter(['Штангисты'] * lf_h, lf);"
   ]
  },
  {
   "cell_type": "code",
   "execution_count": 5,
   "metadata": {},
   "outputs": [],
   "source": [
    "k = 3\n",
    "fb_mean = fb.mean()\n",
    "hk_mean = hk.mean()\n",
    "lf_mean = lf.mean()\n",
    "\n",
    "mean_fhl = (fb_mean * fb_h + hk_mean * hk_h + lf_mean * lf_h) / h_all"
   ]
  },
  {
   "cell_type": "code",
   "execution_count": 6,
   "metadata": {},
   "outputs": [
    {
     "data": {
      "text/plain": [
       "(830.964286, 830.964286)"
      ]
     },
     "execution_count": 6,
     "metadata": {},
     "output_type": "execute_result"
    }
   ],
   "source": [
    "X = sum((np.array(list(fb) + list(hk) + list(lf)) - mean_fhl)**2)\n",
    "X_fact = fb_h * (fb_mean - mean_fhl)**2 + hk_h * (hk_mean - mean_fhl)**2 + lf_h * (lf_mean - mean_fhl)**2\n",
    "X_ost = sum((fb - fb_mean)**2) + sum((hk - hk_mean)**2) + sum((lf - lf_mean)**2)\n",
    "\n",
    "round(X, 6), round(X_fact + X_ost, 6)"
   ]
  },
  {
   "cell_type": "code",
   "execution_count": 7,
   "metadata": {},
   "outputs": [
    {
     "data": {
      "text/plain": [
       "(29.67729591836734, 126.9537337662339, 23.082272727272724)"
      ]
     },
     "execution_count": 7,
     "metadata": {},
     "output_type": "execute_result"
    }
   ],
   "source": [
    "D_all = X / h_all\n",
    "D_fact = X_fact / (k - 1)\n",
    "D_ost = X_ost / (h_all - k)\n",
    "\n",
    "D_all, D_fact, D_ost"
   ]
  },
  {
   "cell_type": "code",
   "execution_count": 8,
   "metadata": {},
   "outputs": [
    {
     "data": {
      "text/plain": [
       "5.500053450812599"
      ]
     },
     "execution_count": 8,
     "metadata": {},
     "output_type": "execute_result"
    }
   ],
   "source": [
    "Fh = D_fact / D_ost\n",
    "Fh"
   ]
  },
  {
   "cell_type": "code",
   "execution_count": 9,
   "metadata": {},
   "outputs": [],
   "source": [
    "F_crit = 3.3404"
   ]
  },
  {
   "cell_type": "markdown",
   "metadata": {},
   "source": [
    "Fh > F_crit => Гипотеза о различиях среднего роста у взрослых спортсменов является статистически значимой и подтверждается."
   ]
  },
  {
   "cell_type": "code",
   "execution_count": 10,
   "metadata": {},
   "outputs": [
    {
     "data": {
      "text/plain": [
       "F_onewayResult(statistic=5.500053450812596, pvalue=0.010482206918698694)"
      ]
     },
     "execution_count": 10,
     "metadata": {},
     "output_type": "execute_result"
    }
   ],
   "source": [
    "from scipy import stats\n",
    "\n",
    "stats.f_oneway(fb,hk,lf)"
   ]
  },
  {
   "cell_type": "markdown",
   "metadata": {},
   "source": [
    "##### Задание №2\n",
    "\n",
    "С курсовой работой сейчас определяюсь, очень надеюсь выкроить для неё время. Ссылка на пустой репозиторий: https://github.com/brabus72/Coursework_MathSt-TerVer"
   ]
  },
  {
   "cell_type": "code",
   "execution_count": null,
   "metadata": {},
   "outputs": [],
   "source": []
  }
 ],
 "metadata": {
  "kernelspec": {
   "display_name": "Python 3",
   "language": "python",
   "name": "python3"
  },
  "language_info": {
   "codemirror_mode": {
    "name": "ipython",
    "version": 3
   },
   "file_extension": ".py",
   "mimetype": "text/x-python",
   "name": "python",
   "nbconvert_exporter": "python",
   "pygments_lexer": "ipython3",
   "version": "3.7.1"
  }
 },
 "nbformat": 4,
 "nbformat_minor": 2
}
